{
 "cells": [
  {
   "cell_type": "markdown",
   "id": "fdfb5a77",
   "metadata": {},
   "source": [
    "# Assignment 4\n",
    "### Juan Ballas Marchant\n",
    "\n",
    "* Version 1\n",
    "* Fall2023"
   ]
  },
  {
   "cell_type": "markdown",
   "id": "472a3519",
   "metadata": {},
   "source": [
    "## Task 1: Grade Calculator\n",
    "1. A. Create a list named grades containing five numerical grades (0-100).\n",
    "2. B. Calculate the average grade from the list.\n",
    "3. C. Use an if-else condition to determine the letter grade based on the average as follows:\n",
    "    * 90-100: \"A\"\n",
    "    * 80-89: \"B\"\n",
    "    * 70-79: \"C\"\n",
    "    * 60-69: \"D\"\n",
    "    * Below 60: \"F\"\n",
    "4. Print the average grade and corresponding letter grade."
   ]
  },
  {
   "cell_type": "code",
   "execution_count": 1,
   "id": "b90990c6",
   "metadata": {},
   "outputs": [],
   "source": [
    "grades=[95,66,83,44,73]"
   ]
  },
  {
   "cell_type": "code",
   "execution_count": 2,
   "id": "7225cb32",
   "metadata": {},
   "outputs": [],
   "source": [
    "grades_average= (sum(grades)/len(grades))"
   ]
  },
  {
   "cell_type": "code",
   "execution_count": 3,
   "id": "36f9af27",
   "metadata": {},
   "outputs": [
    {
     "name": "stdout",
     "output_type": "stream",
     "text": [
      "[95, 66, 83, 44, 73]\n",
      "72.2\n"
     ]
    }
   ],
   "source": [
    "print(grades)\n",
    "\n",
    "print(grades_average)"
   ]
  },
  {
   "cell_type": "code",
   "execution_count": 4,
   "id": "fdf9f356",
   "metadata": {},
   "outputs": [
    {
     "name": "stdout",
     "output_type": "stream",
     "text": [
      "Grades Average:  72.2\n",
      "Final Grade:  C\n"
     ]
    }
   ],
   "source": [
    "if 90 <= grades_average <= 100:\n",
    "    final_grade = \"A\"\n",
    "elif 80 <= grades_average < 90:\n",
    "    final_grade = \"B\"\n",
    "elif 70 <= grades_average < 80:\n",
    "    final_grade = \"C\"\n",
    "elif 60 <= grades_average < 70:\n",
    "    final_grade = \"D\"\n",
    "else:\n",
    "    letter_grade = \"F\"\n",
    "\n",
    "print(\"Grades Average: \", grades_average)\n",
    "print(\"Final Grade: \", final_grade)"
   ]
  },
  {
   "cell_type": "markdown",
   "id": "7da04971",
   "metadata": {},
   "source": [
    "## Task 2: Tuple Unpacking\n",
    "1. A. Create a tuple named student with your first name, last name, age, and a subject (in that order).\n",
    "2. B. Use tuple unpacking and an if-else condition to check if the student's age is above 18.\n",
    "3. C. If the age is above 18, print a message indicating that the student is an adult, otherwise print a message indicating that the student is a minor"
   ]
  },
  {
   "cell_type": "code",
   "execution_count": 5,
   "id": "8543710e",
   "metadata": {},
   "outputs": [],
   "source": [
    "student=('Juan','Ballas',22,'Econ')"
   ]
  },
  {
   "cell_type": "code",
   "execution_count": 6,
   "id": "2d5ba1eb",
   "metadata": {},
   "outputs": [],
   "source": [
    "first_name, last_name, age, subject=student"
   ]
  },
  {
   "cell_type": "code",
   "execution_count": 7,
   "id": "00929809",
   "metadata": {},
   "outputs": [
    {
     "name": "stdout",
     "output_type": "stream",
     "text": [
      "Student is 22, therfore an adult.\n"
     ]
    }
   ],
   "source": [
    "if age>18:\n",
    "    print(f'Student is {age}, therfore an adult.')\n",
    "else:\n",
    "    print(f'Student is {age}, therfore NOT an adult.')"
   ]
  },
  {
   "cell_type": "markdown",
   "id": "478839eb",
   "metadata": {},
   "source": [
    "## Task 3: Month and date\n",
    "1. Write a Python program that will accept a number from 1 to 12 and display the name of the month and days in the month. Consider that the year is a regular year"
   ]
  },
  {
   "cell_type": "code",
   "execution_count": 8,
   "id": "3a111dca",
   "metadata": {},
   "outputs": [
    {
     "name": "stdout",
     "output_type": "stream",
     "text": [
      "Enter a number between 1 and 12: 10\n",
      "The month is: October\n",
      "The month has this many days: 31\n"
     ]
    }
   ],
   "source": [
    "number=int(input('Enter a number between 1 and 12: '))\n",
    "\n",
    "if 1<=number<=12:\n",
    "    month=[\"January\",'February','March','April','May','June','July','August','September','October','November','December']\n",
    "    month_days=[31,28,31,30,31,30,31,31,30,31,30,31]\n",
    "    \n",
    "    month_name=month[number - 1]\n",
    "    days=month_days[number - 1]\n",
    "    \n",
    "    print(f'The month is: {month_name}')\n",
    "    print(f'The month has this many days: {days}')\n",
    "else:\n",
    "    print(' You did not enter a number between 1 and 12')\n",
    "    "
   ]
  },
  {
   "cell_type": "markdown",
   "id": "9a1a7582",
   "metadata": {},
   "source": [
    "## Task 4: Triangle\n",
    "1. Accept three sides of a triangle and check whether it is an equilateral, isosceles, or scalene \n",
    "triangle"
   ]
  },
  {
   "cell_type": "code",
   "execution_count": 9,
   "id": "048ab220",
   "metadata": {},
   "outputs": [
    {
     "name": "stdout",
     "output_type": "stream",
     "text": [
      "Enter side 1: 2\n",
      "Enter side 2: 2\n",
      "Enter side 3: 5\n",
      "Triangle is isosceles.\n"
     ]
    }
   ],
   "source": [
    "side1 = int(input(\"Enter side 1: \"))\n",
    "side2 = int(input(\"Enter side 2: \"))\n",
    "side3 = int(input(\"Enter side 3: \"))\n",
    "\n",
    "if side1 == side2 == side3:\n",
    "    print(\"Triangle is equilateral.\")\n",
    "elif side1 == side2 or side1 == side3 or side2 == side3:\n",
    "    print(\"Triangle is isosceles.\")\n",
    "else:\n",
    "    print(\"Triangle is scalene.\")"
   ]
  },
  {
   "cell_type": "markdown",
   "id": "ab8cc914",
   "metadata": {},
   "source": [
    "## Task 5: List Comprehension and Filtering\n",
    "1. A. Create a list of named numbers containing integers from 21 to 40.\n",
    "2. B. Use list comprehension to create a new list named even_squares containing the squares of even numbers from numbers.\n",
    "3. C. Use list comprehension to create a new list named odd_cubes containing the cubes of odd numbers from numbers."
   ]
  },
  {
   "cell_type": "code",
   "execution_count": 10,
   "id": "723e68bb",
   "metadata": {},
   "outputs": [],
   "source": [
    "numbers=list(range(21,41))"
   ]
  },
  {
   "cell_type": "code",
   "execution_count": 11,
   "id": "7804ff27",
   "metadata": {},
   "outputs": [
    {
     "name": "stdout",
     "output_type": "stream",
     "text": [
      "Even squares: [484, 576, 676, 784, 900, 1024, 1156, 1296, 1444, 1600]\n",
      "Odd cubes: [9261, 12167, 15625, 19683, 24389, 29791, 35937, 42875, 50653, 59319]\n"
     ]
    }
   ],
   "source": [
    "even_squares=[i ** 2 for i in numbers if i % 2 == 0]\n",
    "odd_cubes=[i ** 3 for i in numbers if i % 2 != 0]\n",
    "\n",
    "print(f'Even squares: {even_squares}')\n",
    "print(f'Odd cubes: {odd_cubes}')"
   ]
  }
 ],
 "metadata": {
  "kernelspec": {
   "display_name": "Python 3 (ipykernel)",
   "language": "python",
   "name": "python3"
  },
  "language_info": {
   "codemirror_mode": {
    "name": "ipython",
    "version": 3
   },
   "file_extension": ".py",
   "mimetype": "text/x-python",
   "name": "python",
   "nbconvert_exporter": "python",
   "pygments_lexer": "ipython3",
   "version": "3.11.4"
  }
 },
 "nbformat": 4,
 "nbformat_minor": 5
}
